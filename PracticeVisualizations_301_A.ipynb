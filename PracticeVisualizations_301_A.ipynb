{
  "nbformat": 4,
  "nbformat_minor": 0,
  "metadata": {
    "colab": {
      "provenance": [],
      "authorship_tag": "ABX9TyM03FMLpJx/66fmtLA/BpWs",
      "include_colab_link": true
    },
    "kernelspec": {
      "name": "python3",
      "display_name": "Python 3"
    },
    "language_info": {
      "name": "python"
    }
  },
  "cells": [
    {
      "cell_type": "markdown",
      "metadata": {
        "id": "view-in-github",
        "colab_type": "text"
      },
      "source": [
        "<a href=\"https://colab.research.google.com/github/sumanthkrishna/genAIPath/blob/main/PracticeVisualizations_301_A.ipynb\" target=\"_parent\"><img src=\"https://colab.research.google.com/assets/colab-badge.svg\" alt=\"Open In Colab\"/></a>"
      ]
    },
    {
      "cell_type": "markdown",
      "source": [
        "#**Three Visualization Challenges:**"
      ],
      "metadata": {
        "id": "c9Uw8tFztsWB"
      }
    },
    {
      "cell_type": "markdown",
      "source": [
        "**Challenge 1: Customizing Matplotlib Plots**\n",
        "\n",
        "**Objective:** Create a customized Matplotlib plot with multiple subplots, custom colors, and annotations.\n",
        "\n",
        "**Challenge Pseudo Code:**\n"
      ],
      "metadata": {
        "id": "88ElGVyxpQMX"
      }
    },
    {
      "cell_type": "code",
      "source": [
        "\n",
        "import matplotlib.pyplot as plt\n",
        "import numpy as np\n",
        "\n",
        "# Sample data\n",
        "x = np.linspace(0, 10, 100)\n",
        "y1 = np.sin(x)\n",
        "y2 = np.cos(x)\n",
        "\n",
        "# Challenge: Create a plot with two subplots, custom colors, and annotations\n",
        "fig, axs = plt.subplots(2, 1, figsize=(8, 6))\n",
        "\n",
        "# Subplot 1\n",
        "axs[0].plot(x, y1, color='blue', label='sin(x)')\n",
        "axs[0].set_title('Subplot 1')\n",
        "axs[0].legend()\n",
        "\n",
        "# Subplot 2\n",
        "axs[1].plot(x, y2, color='green', label='cos(x)')\n",
        "axs[1].set_title('Subplot 2')\n",
        "axs[1].legend()\n",
        "\n",
        "# Add annotations\n",
        "axs[0].annotate('Maximum', xy=(np.pi/2, 1), xytext=(np.pi/2, 1.5),\n",
        "                 arrowprops=dict(facecolor='red', shrink=0.05))\n",
        "\n",
        "axs[1].annotate('Minimum', xy=(3*np.pi/2, -1), xytext=(3*np.pi/2, -1.5),\n",
        "                 arrowprops=dict(facecolor='purple', shrink=0.05))\n",
        "\n",
        "plt.tight_layout()\n",
        "plt.show()\n"
      ],
      "metadata": {
        "id": "Xy2G4CLKqoon"
      },
      "execution_count": null,
      "outputs": []
    },
    {
      "cell_type": "markdown",
      "source": [
        "\n",
        "**Challenge 2: Seaborn Styling and Pair Plot**\n",
        "\n",
        "**Objective:** Use Seaborn to create a pair plot with customized styling and correlation coefficients.\n",
        "\n",
        "**Challenge Pseudo Code:**"
      ],
      "metadata": {
        "id": "oqRQVkoaqKmX"
      }
    },
    {
      "cell_type": "code",
      "source": [
        "import seaborn as sns\n",
        "import matplotlib.pyplot as plt\n",
        "\n",
        "# Load a sample dataset\n",
        "df = sns.load_dataset('iris')\n",
        "\n",
        "# Challenge: Create a pair plot with customized styling and correlation coefficients\n",
        "sns.set(style=\"whitegrid\")\n",
        "sns.pairplot(df, hue='species', palette='husl', markers=['o', 's', 'D'], diag_kind='kde')\n",
        "\n",
        "# Add correlation coefficients to the plot\n",
        "corr_matrix = df.corr()\n",
        "for i, (ax_row, species) in enumerate(zip(plt.gcf().axes, df['species'].unique())):\n",
        "    for j, ax in enumerate(ax_row):\n",
        "        if i == len(plt.gcf().axes) - 1:\n",
        "            ax.annotate(f\"Corr: {corr_matrix.columns[j]:.2f}\",\n",
        "                        xy=(0.5, 0), xytext=(0, -ax.yaxis.labelpad - 10),\n",
        "                        xycoords=('axes fraction', 'axes fraction'),\n",
        "                        textcoords='offset points',\n",
        "                        ha='center', va='center', fontsize=8)\n",
        "        if j == 0:\n",
        "            ax.annotate(species, xy=(-0.2, 0.5), xytext=(60, 0),\n",
        "                        xycoords=('axes fraction', 'axes fraction'),\n",
        "                        textcoords='offset points',\n",
        "                        ha='center', va='center', rotation=90, fontsize=10)\n",
        "\n",
        "plt.suptitle('Seaborn Pair Plot Challenge', y=1.02)\n",
        "plt.show()"
      ],
      "metadata": {
        "id": "nj5BwwEGp8Ur"
      },
      "execution_count": null,
      "outputs": []
    },
    {
      "cell_type": "markdown",
      "source": [
        "**Challenge 3: Interactive Plot with Plotly**\n",
        "\n",
        "**Objective:** Create an interactive 3D scatter plot using Plotly.\n",
        "\n",
        "**Challenge Pseudo Code:**"
      ],
      "metadata": {
        "id": "_CpcKt_aqGiv"
      }
    },
    {
      "cell_type": "code",
      "source": [
        "import plotly.express as px\n",
        "import pandas as pd\n",
        "\n",
        "# Sample data\n",
        "df = pd.DataFrame({\n",
        "    'X': [1, 2, 3, 4, 5],\n",
        "    'Y': [10, 12, 5, 8, 20],\n",
        "    'Z': [5, 8, 10, 6, 15]\n",
        "})\n",
        "\n",
        "# Challenge: Create an interactive 3D scatter plot with Plotly\n",
        "fig = px.scatter_3d(df, x='X', y='Y', z='Z', color='X', size='Z', opacity=0.7,\n",
        "                    title='Interactive 3D Scatter Plot Challenge',\n",
        "                    labels={'X': 'X-axis', 'Y': 'Y-axis', 'Z': 'Z-axis'},\n",
        "                    hover_name=df.index)\n",
        "\n",
        "# Show the plot\n",
        "fig.show()"
      ],
      "metadata": {
        "id": "oMmIClDapVWJ"
      },
      "execution_count": null,
      "outputs": []
    }
  ]
}