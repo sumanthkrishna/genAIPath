{
  "nbformat": 4,
  "nbformat_minor": 0,
  "metadata": {
    "colab": {
      "provenance": [],
      "authorship_tag": "ABX9TyOU6Y0QBMSydUUXxN8Z1KCR",
      "include_colab_link": true
    },
    "kernelspec": {
      "name": "python3",
      "display_name": "Python 3"
    },
    "language_info": {
      "name": "python"
    }
  },
  "cells": [
    {
      "cell_type": "markdown",
      "metadata": {
        "id": "view-in-github",
        "colab_type": "text"
      },
      "source": [
        "<a href=\"https://colab.research.google.com/github/sumanthkrishna/genAIPath/blob/main/Practice_GAI_Mod_1_tTest.ipynb\" target=\"_parent\"><img src=\"https://colab.research.google.com/assets/colab-badge.svg\" alt=\"Open In Colab\"/></a>"
      ]
    },
    {
      "cell_type": "markdown",
      "source": [
        "## Challenge 1: Calculate Mean"
      ],
      "metadata": {
        "id": "efgR202QwXVp"
      }
    },
    {
      "cell_type": "markdown",
      "source": [
        "1. Initialize a variable `sum` to 0.\n",
        "2. Initialize a variable `count` to 0.\n",
        "3. For each element `x` in the dataset:\n",
        "   4. Add `x` to `sum`.\n",
        "   5. Increment `count` by 1.\n",
        "6. Calculate the mean as `sum / count`.\n"
      ],
      "metadata": {
        "id": "_i7jhq0Lwaww"
      }
    },
    {
      "cell_type": "code",
      "execution_count": null,
      "metadata": {
        "id": "8UW-JF2GwRpr"
      },
      "outputs": [],
      "source": [
        "# Use this code cell, to write, by following the given Pseudo Code\n",
        "\n",
        "\n"
      ]
    },
    {
      "cell_type": "markdown",
      "source": [
        "##Challenge 2: Calculate Median\n",
        "\n"
      ],
      "metadata": {
        "id": "EJO97eXuwebg"
      }
    },
    {
      "cell_type": "markdown",
      "source": [
        "1. Sort the dataset in ascending order.\n",
        "2. If the count of elements is odd:\n",
        "   3. The median is the middle element.\n",
        "4. If the count of elements is even:\n",
        "   5. The median is the average of the two middle elements.\n"
      ],
      "metadata": {
        "id": "PLrW-RMkwhBY"
      }
    },
    {
      "cell_type": "code",
      "source": [
        "# Use this code cell, to write, by following the given Pseudo Code\n",
        "\n",
        "\n"
      ],
      "metadata": {
        "id": "Tjztk0rtwl6C"
      },
      "execution_count": null,
      "outputs": []
    },
    {
      "cell_type": "markdown",
      "source": [
        "##Challenge 3: Calculate Mode\n",
        "\n"
      ],
      "metadata": {
        "id": "vTfS9sOrwmxY"
      }
    },
    {
      "cell_type": "markdown",
      "source": [
        "1. Create a dictionary to count the frequency of each unique value.\n",
        "2. Initialize a variable `max_count` to 0.\n",
        "3. For each element `x` in the dataset:\n",
        "   4. Increment the count for `x` in the dictionary.\n",
        "   5. If the count for `x` is greater than `max_count`, update `max_count`.\n",
        "6. Create a list of modes (values with a count equal to `max_count`).\n"
      ],
      "metadata": {
        "id": "BFg43YlRwqvh"
      }
    },
    {
      "cell_type": "code",
      "source": [
        "# Use this code cell, to write, by following the given Pseudo Code\n",
        "\n",
        "\n"
      ],
      "metadata": {
        "id": "8IeCG5Enwslh"
      },
      "execution_count": null,
      "outputs": []
    },
    {
      "cell_type": "markdown",
      "source": [
        "##Challenge 4: Calculate Variance\n",
        "\n"
      ],
      "metadata": {
        "id": "NlAVA4opwvog"
      }
    },
    {
      "cell_type": "markdown",
      "source": [
        "1. Calculate the mean of the dataset.\n",
        "2. Initialize a variable `sum_squared_diff` to 0.\n",
        "3. For each element `x` in the dataset:\n",
        "   4. Calculate the squared difference between `x` and the mean.\n",
        "   5. Add the squared difference to `sum_squared_diff`.\n",
        "6. Calculate the variance as `sum_squared_diff / (count - 1)`.\n"
      ],
      "metadata": {
        "id": "N1kT-iTLwyF2"
      }
    },
    {
      "cell_type": "code",
      "source": [
        "# Use this code cell, to write, by following the given Pseudo Code\n",
        "\n",
        "\n"
      ],
      "metadata": {
        "id": "rKetAbOXwzkR"
      },
      "execution_count": null,
      "outputs": []
    },
    {
      "cell_type": "markdown",
      "source": [
        "##Challenge 5: Calculate Standard Deviation\n",
        "\n"
      ],
      "metadata": {
        "id": "-7WkPuQLw2bm"
      }
    },
    {
      "cell_type": "markdown",
      "source": [
        "1. Calculate the variance using the previous challenge.\n",
        "2. Take the square root of the variance to get the standard deviation.\n"
      ],
      "metadata": {
        "id": "WeJFyIqgw5Hj"
      }
    },
    {
      "cell_type": "code",
      "source": [
        "# Use this code cell, to write, by following the given Pseudo Code\n",
        "\n",
        "\n"
      ],
      "metadata": {
        "id": "esZIlWnsw9mW"
      },
      "execution_count": null,
      "outputs": []
    },
    {
      "cell_type": "markdown",
      "source": [
        "##Challenge 6: Perform t-Test\n",
        "\n"
      ],
      "metadata": {
        "id": "jA2VRK9cw_V_"
      }
    },
    {
      "cell_type": "markdown",
      "source": [
        "1. Separate the data into two groups (e.g., treatment and control).\n",
        "2. Calculate the means and standard deviations for both groups.\n",
        "3. Calculate the t-statistic using the formula.\n",
        "4. Determine the degrees of freedom and lookup the critical t-value.\n",
        "5. Compare the calculated t-statistic with the critical t-value to decide if there's a significant difference.\n"
      ],
      "metadata": {
        "id": "hfSYZ-55xB_v"
      }
    },
    {
      "cell_type": "code",
      "source": [
        "# Use this code cell, to write, by following the given Pseudo Code\n",
        "\n",
        "\n"
      ],
      "metadata": {
        "id": "g3owiss7xDZ3"
      },
      "execution_count": null,
      "outputs": []
    }
  ]
}