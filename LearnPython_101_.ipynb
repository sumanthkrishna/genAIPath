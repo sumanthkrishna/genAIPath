{
  "nbformat": 4,
  "nbformat_minor": 0,
  "metadata": {
    "colab": {
      "provenance": [],
      "authorship_tag": "ABX9TyPl1pEG+5JcqlCm8o6ksmmA",
      "include_colab_link": true
    },
    "kernelspec": {
      "name": "python3",
      "display_name": "Python 3"
    },
    "language_info": {
      "name": "python"
    }
  },
  "cells": [
    {
      "cell_type": "markdown",
      "metadata": {
        "id": "view-in-github",
        "colab_type": "text"
      },
      "source": [
        "<a href=\"https://colab.research.google.com/github/sumanthkrishna/genAIPath/blob/main/LearnPython_101_.ipynb\" target=\"_parent\"><img src=\"https://colab.research.google.com/assets/colab-badge.svg\" alt=\"Open In Colab\"/></a>"
      ]
    },
    {
      "cell_type": "markdown",
      "source": [
        "#Python Essentials\n",
        "\n",
        "##Python - 101\n",
        "\n",
        "1. Lists\n",
        "2. Loops\n",
        "3. Conditions\n",
        "4. Functions\n",
        "\n",
        "This notebook will cover Python essentials with examples and explanations.\n"
      ],
      "metadata": {
        "id": "ohNh1DXTgfG4"
      }
    },
    {
      "cell_type": "markdown",
      "source": [
        "\n",
        "**Variables and Data Types:**\n",
        "\n",
        "```python\n",
        "# Variables\n",
        "name = \"John\"\n",
        "age = 25\n",
        "\n",
        "# Data types\n",
        "string_variable = \"Hello, World!\"\n",
        "integer_variable = 42\n",
        "float_variable = 3.14\n",
        "boolean_variable = True\n",
        "```\n"
      ],
      "metadata": {
        "id": "MSzTAN0zojrm"
      }
    },
    {
      "cell_type": "markdown",
      "source": [
        "\n",
        "**Lists:**\n",
        "\n",
        "```python\n",
        "my_list = [1, 2, 3, 4, 5]\n",
        "print(my_list[0])  # Accessing elements\n",
        "my_list.append(6)  # Appending to the list\n",
        "```\n"
      ],
      "metadata": {
        "id": "uWAAnQngoeG_"
      }
    },
    {
      "cell_type": "markdown",
      "source": [
        "\n",
        "**Conditional Statements:**\n",
        "\n",
        "```python\n",
        "# If statement\n",
        "if age >= 18:\n",
        "    print(\"You are an adult\")\n",
        "else:\n",
        "    print(\"You are a minor\")\n",
        "```\n",
        "\n"
      ],
      "metadata": {
        "id": "HLai3RpuobA4"
      }
    },
    {
      "cell_type": "markdown",
      "source": [
        "**Loops:**\n",
        "\n",
        "```python\n",
        "# For loop\n",
        "for i in range(5):\n",
        "    print(i)\n",
        "\n",
        "# While loop\n",
        "count = 0\n",
        "while count < 5:\n",
        "    print(count)\n",
        "    count += 1\n",
        "```\n",
        "\n",
        "\n",
        "\n"
      ],
      "metadata": {
        "id": "qyJg5LTpoUUy"
      }
    },
    {
      "cell_type": "markdown",
      "source": [
        "**Functions:**\n",
        "\n",
        "```python\n",
        "# Define a function\n",
        "def greet(name):\n",
        "    return \"Hello, \" + name\n",
        "\n",
        "# Call the function\n",
        "message = greet(\"Alice\")\n",
        "print(message)\n",
        "```"
      ],
      "metadata": {
        "id": "R61U8KJFoQBJ"
      }
    }
  ]
}