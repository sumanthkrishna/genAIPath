{
  "nbformat": 4,
  "nbformat_minor": 0,
  "metadata": {
    "colab": {
      "provenance": [],
      "authorship_tag": "ABX9TyNiRk8nupxKwKFSpzVAG3HG",
      "include_colab_link": true
    },
    "kernelspec": {
      "name": "python3",
      "display_name": "Python 3"
    },
    "language_info": {
      "name": "python"
    }
  },
  "cells": [
    {
      "cell_type": "markdown",
      "metadata": {
        "id": "view-in-github",
        "colab_type": "text"
      },
      "source": [
        "<a href=\"https://colab.research.google.com/github/sumanthkrishna/genAIPath/blob/main/PracticeProbability_401_A.ipynb\" target=\"_parent\"><img src=\"https://colab.research.google.com/assets/colab-badge.svg\" alt=\"Open In Colab\"/></a>"
      ]
    },
    {
      "cell_type": "markdown",
      "source": [
        "Here are some Python challenges with pseudo-code to practice probability and visualization, skills that are critical in machine learning:\n",
        "\n",
        "### Challenge 1: Coin Toss Simulation\n",
        "\n",
        "**Problem:**\n",
        "Simulate a fair coin toss experiment and calculate the relative frequencies of getting Heads and Tails. Visualize the results using a bar chart.\n",
        "\n",
        "**Pseudo-Code:**\n",
        "```plaintext\n",
        "1. Import necessary libraries (e.g., random, matplotlib).\n",
        "2. Initialize variables for the number of trials and results.\n",
        "3. Loop for each trial:\n",
        "   a. Simulate a coin toss (use random.choice(['Heads', 'Tails'])).\n",
        "   b. Record the result.\n",
        "4. Calculate the relative frequencies of Heads and Tails.\n",
        "5. Visualize the results using a bar chart.\n",
        "```\n",
        "\n",
        "\n",
        "\n",
        "\n"
      ],
      "metadata": {
        "id": "St_EUE7Tca5H"
      }
    },
    {
      "cell_type": "code",
      "source": [
        "# Use this code cell, to write, by following the given Pseudo Code\n",
        "\n",
        "\n"
      ],
      "metadata": {
        "id": "boyl8GofcyQX"
      },
      "execution_count": null,
      "outputs": []
    },
    {
      "cell_type": "markdown",
      "source": [
        "\n",
        "### Challenge 2: Dice Roll Simulation\n",
        "\n",
        "**Problem:**\n",
        "Simulate the rolling of a fair six-sided die and calculate the probabilities of each outcome. Visualize the probabilities using a bar chart.\n",
        "\n",
        "**Pseudo-Code:**\n",
        "```plaintext\n",
        "1. Import necessary libraries.\n",
        "2. Initialize variables for the number of trials, outcomes, and results.\n",
        "3. Loop for each trial:\n",
        "   a. Simulate a die roll (use random.randint(1, 6)).\n",
        "   b. Record the result.\n",
        "4. Calculate the probabilities of each outcome.\n",
        "5. Visualize the probabilities using a bar chart.\n",
        "```\n"
      ],
      "metadata": {
        "id": "QtjQ9ODocwv0"
      }
    },
    {
      "cell_type": "code",
      "source": [
        "# Use this code cell, to write, by following the given Pseudo Code\n",
        "\n",
        "\n",
        "\n"
      ],
      "metadata": {
        "id": "YZcMBCmZc2cY"
      },
      "execution_count": null,
      "outputs": []
    },
    {
      "cell_type": "markdown",
      "source": [
        "\n",
        "### Challenge 3: Normal Distribution PDF\n",
        "\n",
        "**Problem:**\n",
        "Generate and plot the Probability Density Function (PDF) of a standard normal distribution.\n",
        "\n",
        "**Pseudo-Code:**\n",
        "```plaintext\n",
        "1. Import necessary libraries (e.g., numpy, matplotlib, scipy.stats).\n",
        "2. Generate data points for a standard normal distribution.\n",
        "3. Calculate the PDF values using the normal distribution function.\n",
        "4. Plot the PDF using Matplotlib.\n",
        "```\n"
      ],
      "metadata": {
        "id": "-h4SMGQCcubM"
      }
    },
    {
      "cell_type": "code",
      "source": [
        "# Use this code cell, to write, by following the given Pseudo Code\n",
        "\n",
        "\n"
      ],
      "metadata": {
        "id": "8p_e2luFc4fS"
      },
      "execution_count": null,
      "outputs": []
    },
    {
      "cell_type": "markdown",
      "source": [
        "### Challenge 4: Probability Calculation\n",
        "\n",
        "**Problem:**\n",
        "Calculate the probability of drawing a certain card from a standard deck of 52 playing cards.\n",
        "\n",
        "**Pseudo-Code:**\n",
        "```plaintext\n",
        "1. Define the sample space of a standard deck of cards.\n",
        "2. Calculate the probability of drawing a specific card.\n",
        "3. Print the calculated probability.\n",
        "```"
      ],
      "metadata": {
        "id": "dzNGdTKrcpat"
      }
    },
    {
      "cell_type": "code",
      "source": [
        "# Use this code cell, to write, by following the given Pseudo Code\n",
        "\n",
        "\n"
      ],
      "metadata": {
        "id": "oLNoI_zhc6Ey"
      },
      "execution_count": null,
      "outputs": []
    },
    {
      "cell_type": "markdown",
      "source": [
        "### Challenge 5: Conditional Probability\n",
        "\n",
        "**Problem:**\n",
        "Simulate a scenario where you draw two cards from a standard deck without replacement. Calculate the probability of specific events given the outcomes of the first draw.\n",
        "\n",
        "**Pseudo-Code:**\n",
        "```plaintext\n",
        "1. Define the sample space of a standard deck of cards.\n",
        "2. Simulate drawing the first card.\n",
        "3. Calculate the conditional probability of events based on the outcome of the first draw.\n",
        "4. Print the calculated probabilities.\n",
        "```"
      ],
      "metadata": {
        "id": "9uWSVclecnr5"
      }
    },
    {
      "cell_type": "code",
      "execution_count": null,
      "metadata": {
        "id": "oVin7bngcSm0"
      },
      "outputs": [],
      "source": [
        "# Use this code cell, to write, by following the given Pseudo Code\n",
        "\n",
        "\n"
      ]
    },
    {
      "cell_type": "markdown",
      "source": [
        "\n",
        "These challenges cover basic probability concepts and visualization techniques, providing a good foundation for understanding probability in the context of machine learning. You can implement these challenges in Python and use libraries like `random`, `matplotlib`, `numpy`, and `scipy.stats` for simulation and visualization."
      ],
      "metadata": {
        "id": "rlyj8d9pceot"
      }
    }
  ]
}
