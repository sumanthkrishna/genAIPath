{
  "nbformat": 4,
  "nbformat_minor": 0,
  "metadata": {
    "colab": {
      "provenance": [],
      "authorship_tag": "ABX9TyMqZ4anZrj/zkQyzIUlFlFv",
      "include_colab_link": true
    },
    "kernelspec": {
      "name": "python3",
      "display_name": "Python 3"
    },
    "language_info": {
      "name": "python"
    }
  },
  "cells": [
    {
      "cell_type": "markdown",
      "metadata": {
        "id": "view-in-github",
        "colab_type": "text"
      },
      "source": [
        "<a href=\"https://colab.research.google.com/github/sumanthkrishna/genAIPath/blob/main/LearnPython_201.ipynb\" target=\"_parent\"><img src=\"https://colab.research.google.com/assets/colab-badge.svg\" alt=\"Open In Colab\"/></a>"
      ]
    },
    {
      "cell_type": "markdown",
      "source": [
        "#Python Essentials\n",
        "\n",
        "## Pandas\n",
        "\n",
        "Ref: https://pandas.pydata.org/\n",
        "\n",
        "![image.png](data:image/png;base64,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)\n",
        "\n",
        "Pandas is a powerful Python library for data manipulation and analysis. It provides data structures and functions for efficiently working with structured data, such as tables and spreadsheets. Key components include DataFrames for organizing data into rows and columns, Series for handling one-dimensional data, and tools for data cleaning, filtering, grouping, and statistical analysis. Pandas is widely used in data science and machine learning due to its versatility and ease of use, making it an essential tool for handling and exploring data in Python.\n",
        "\n",
        "\n",
        "\n",
        "\n",
        "\n",
        "\n",
        "\n",
        "\n"
      ],
      "metadata": {
        "id": "hbmZi167sdmF"
      }
    },
    {
      "cell_type": "markdown",
      "source": [
        "**Example 1: Load and Display Data from a CSV File**\n",
        "\n",
        "```python\n",
        "import pandas as pd\n",
        "\n",
        "# Define the path to a CSV file\n",
        "csv_file = \"https://example.com/data.csv\"\n",
        "\n",
        "# Read the CSV file into a DataFrame\n",
        "df = pd.read_csv(csv_file)\n",
        "\n",
        "# Display the first 5 rows of the DataFrame\n",
        "df.head()\n",
        "```"
      ],
      "metadata": {
        "id": "uYoGjpLUs6fu"
      }
    },
    {
      "cell_type": "markdown",
      "source": [
        "**Example 2: Summarize Data from an Excel File**\n",
        "\n",
        "```python\n",
        "import pandas as pd\n",
        "\n",
        "# Define the path to an Excel file\n",
        "excel_file = \"https://example.com/data.xlsx\"\n",
        "\n",
        "# Read the Excel file into a DataFrame\n",
        "df = pd.read_excel(excel_file)\n",
        "\n",
        "# Display basic summary statistics of the DataFrame\n",
        "df.describe()\n",
        "```"
      ],
      "metadata": {
        "id": "tlORQzops2K4"
      }
    },
    {
      "cell_type": "markdown",
      "source": [
        "**Example 3: Filter and Extract Data from a JSON File**\n",
        "\n",
        "```python\n",
        "import pandas as pd\n",
        "\n",
        "# Define the path to a JSON file\n",
        "json_file = \"https://example.com/data.json\"\n",
        "\n",
        "# Read the JSON file into a DataFrame\n",
        "df = pd.read_json(json_file)\n",
        "\n",
        "# Filter and extract specific data\n",
        "filtered_data = df[df['category'] == 'electronics']\n",
        "\n",
        "# Display the filtered data\n",
        "filtered_data\n",
        "```"
      ],
      "metadata": {
        "id": "yF8a86bEsyNh"
      }
    },
    {
      "cell_type": "markdown",
      "source": [
        "\n",
        "**Example 4: Join Two DataFrames from Different CSV Files**\n",
        "\n",
        "```python\n",
        "import pandas as pd\n",
        "\n",
        "# Define paths to two different CSV files\n",
        "csv_file1 = \"https://example.com/data1.csv\"\n",
        "csv_file2 = \"https://example.com/data2.csv\"\n",
        "\n",
        "# Read both CSV files into separate DataFrames\n",
        "df1 = pd.read_csv(csv_file1)\n",
        "df2 = pd.read_csv(csv_file2)\n",
        "\n",
        "# Merge the two DataFrames on a common column\n",
        "merged_df = pd.merge(df1, df2, on='common_column')\n",
        "\n",
        "# Display the merged DataFrame\n",
        "merged_df\n",
        "```"
      ],
      "metadata": {
        "id": "dnzG4CNQsu1Y"
      }
    },
    {
      "cell_type": "markdown",
      "source": [
        "**Example 5: Group and Aggregate Data from a CSV File**\n",
        "\n",
        "```python\n",
        "import pandas as pd\n",
        "\n",
        "# Define the path to a CSV file containing sales data\n",
        "csv_file = \"https://example.com/sales_data.csv\"\n",
        "\n",
        "# Read the CSV file into a DataFrame\n",
        "df = pd.read_csv(csv_file)\n",
        "\n",
        "# Group the data by a specific column (e.g., product category)\n",
        "grouped_data = df.groupby('category')\n",
        "\n",
        "# Calculate and display aggregate statistics (e.g., total sales for each category)\n",
        "aggregate_data = grouped_data['sales'].sum()\n",
        "aggregate_data\n",
        "```"
      ],
      "metadata": {
        "id": "13rU-p3NsrPe"
      }
    },
    {
      "cell_type": "markdown",
      "source": [
        "**Example 6: Handle Missing Data from an Excel File**\n",
        "\n",
        "```python\n",
        "import pandas as pd\n",
        "\n",
        "# Define the path to an Excel file containing data with missing values\n",
        "excel_file = \"https://example.com/data_with_missing.xlsx\"\n",
        "\n",
        "# Read the Excel file into a DataFrame\n",
        "df = pd.read_excel(excel_file)\n",
        "\n",
        "# Handle missing data (e.g., fill missing values or drop rows/columns)\n",
        "df_cleaned = df.dropna()\n",
        "\n",
        "# Display the cleaned DataFrame\n",
        "df_cleaned\n",
        "```\n",
        "\n"
      ],
      "metadata": {
        "id": "JXnCc2y0sodM"
      }
    }
  ]
}