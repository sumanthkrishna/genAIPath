{
  "nbformat": 4,
  "nbformat_minor": 0,
  "metadata": {
    "colab": {
      "provenance": [],
      "authorship_tag": "ABX9TyOt8RFZJdf0ajnFCxLwIQYY",
      "include_colab_link": true
    },
    "kernelspec": {
      "name": "python3",
      "display_name": "Python 3"
    },
    "language_info": {
      "name": "python"
    }
  },
  "cells": [
    {
      "cell_type": "markdown",
      "metadata": {
        "id": "view-in-github",
        "colab_type": "text"
      },
      "source": [
        "<a href=\"https://colab.research.google.com/github/sumanthkrishna/genAIPath/blob/main/PracticePython_201_B.ipynb\" target=\"_parent\"><img src=\"https://colab.research.google.com/assets/colab-badge.svg\" alt=\"Open In Colab\"/></a>"
      ]
    },
    {
      "cell_type": "markdown",
      "source": [
        "# Python Essentials\n",
        "\n",
        "## Pandas for Machine Learning\n",
        "\n",
        "Here are some Python challenges with pseudo code to practice critical Pandas library functions commonly used in machine learning:\n",
        "\n",
        "These challenges will help you practice critical Pandas functions that are essential for data preprocessing and manipulation in machine learning. You can implement these challenges in Python, test your solutions, and develop a strong foundation in data handling using Pandas.\n",
        "\n",
        "\n",
        "\n",
        "\n",
        "\n",
        "\n"
      ],
      "metadata": {
        "id": "P-rA_ar8xU4w"
      }
    },
    {
      "cell_type": "markdown",
      "source": [
        "\n",
        "**Challenge 1: Data Loading and Exploration**\n",
        "\n",
        "**Pseudo Code:**\n",
        "```\n",
        "1. Import Pandas.\n",
        "2. Load a dataset (e.g., CSV, Excel) into a DataFrame.\n",
        "3. Display the first few rows and the summary statistics of the dataset.\n",
        "4. Count the missing values in each column.\n",
        "5. Filter and display rows based on specific conditions.\n",
        "6. Calculate the mean and standard deviation of a numeric column.\n",
        "```\n"
      ],
      "metadata": {
        "id": "XwKIoaAvyNWJ"
      }
    },
    {
      "cell_type": "code",
      "source": [
        "# Use this code cell to write-in your code\n",
        "\n"
      ],
      "metadata": {
        "id": "YjkPKYHdynOa"
      },
      "execution_count": null,
      "outputs": []
    },
    {
      "cell_type": "markdown",
      "source": [
        "**Challenge 2: Data Preprocessing**\n",
        "\n",
        "**Pseudo Code:**\n",
        "```\n",
        "1. Import Pandas.\n",
        "2. Load a dataset into a DataFrame.\n",
        "3. Handle missing values by filling them with the mean or dropping them.\n",
        "4. Encode categorical variables using one-hot encoding.\n",
        "5. Normalize or standardize numeric features.\n",
        "6. Create a new column by combining or transforming existing columns.\n",
        "7. Split the dataset into training and testing sets.\n",
        "```\n"
      ],
      "metadata": {
        "id": "LH0f55YryAT7"
      }
    },
    {
      "cell_type": "code",
      "source": [
        "# Use this code cell to write-in your code\n",
        "\n"
      ],
      "metadata": {
        "id": "QmNBXiTVymn3"
      },
      "execution_count": null,
      "outputs": []
    },
    {
      "cell_type": "markdown",
      "source": [
        "**Challenge 3: Feature Engineering**\n",
        "\n",
        "**Pseudo Code:**\n",
        "```\n",
        "1. Import Pandas.\n",
        "2. Load a dataset into a DataFrame.\n",
        "3. Create new features by applying mathematical or statistical functions to existing columns.\n",
        "4. Perform date/time feature extraction.\n",
        "5. Bin numerical data into categories.\n",
        "6. Combine features to create interaction terms.\n",
        "7. Generate polynomial features.\n",
        "```\n"
      ],
      "metadata": {
        "id": "5-0_Zsmtx5ZO"
      }
    },
    {
      "cell_type": "code",
      "source": [
        "# Use this code cell to write-in your code\n",
        "\n"
      ],
      "metadata": {
        "id": "Lbm8CPXuyl9q"
      },
      "execution_count": null,
      "outputs": []
    },
    {
      "cell_type": "markdown",
      "source": [
        "**Challenge 4: Data Grouping and Aggregation**\n",
        "\n",
        "**Pseudo Code:**\n",
        "```\n",
        "1. Import Pandas.\n",
        "2. Load a dataset into a DataFrame.\n",
        "3. Group the data by a categorical variable.\n",
        "4. Calculate the mean, sum, or other aggregations within each group.\n",
        "5. Sort the groups based on the aggregated values.\n",
        "6. Merge the aggregated data back into the original DataFrame.\n",
        "```\n"
      ],
      "metadata": {
        "id": "kJlcL0Ywx3dp"
      }
    },
    {
      "cell_type": "code",
      "source": [
        "# Use this code cell to write-in your code\n",
        "\n"
      ],
      "metadata": {
        "id": "ATkI5hn5ylVu"
      },
      "execution_count": null,
      "outputs": []
    },
    {
      "cell_type": "markdown",
      "source": [
        "\n",
        "**Challenge 5: Data Visualization and Analysis**\n",
        "\n",
        "**Pseudo Code:**\n",
        "```\n",
        "1. Import Pandas and Matplotlib/Seaborn.\n",
        "2. Load a dataset into a DataFrame.\n",
        "3. Visualize data using plots (e.g., scatter, bar, and histogram).\n",
        "4. Create pivot tables to analyze relationships between variables.\n",
        "5. Calculate correlations and display correlation matrices.\n",
        "6. Perform exploratory data analysis (EDA) to gain insights into the data.\n",
        "```\n"
      ],
      "metadata": {
        "id": "EoPQfDw0x0yT"
      }
    },
    {
      "cell_type": "code",
      "source": [
        "# Use this code cell to write-in your code\n",
        "\n"
      ],
      "metadata": {
        "id": "skaatyPDykbX"
      },
      "execution_count": null,
      "outputs": []
    },
    {
      "cell_type": "markdown",
      "source": [
        "**Challenge 6: Data Merging and Joining**\n",
        "\n",
        "**Pseudo Code:**\n",
        "```\n",
        "1. Import Pandas.\n",
        "2. Load two datasets into separate DataFrames.\n",
        "3. Merge the DataFrames using common columns or indices.\n",
        "4. Join datasets based on specified keys.\n",
        "5. Handle duplicate columns or conflicts during merging.\n",
        "6. Display the merged data for analysis.\n",
        "```\n"
      ],
      "metadata": {
        "id": "cSs04pLoxtOF"
      }
    },
    {
      "cell_type": "code",
      "source": [
        "# Use this code cell to write-in your code\n",
        "\n"
      ],
      "metadata": {
        "id": "oUlQY5bTxt1Z"
      },
      "execution_count": null,
      "outputs": []
    }
  ]
}