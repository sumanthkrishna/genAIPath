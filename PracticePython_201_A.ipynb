{
  "nbformat": 4,
  "nbformat_minor": 0,
  "metadata": {
    "colab": {
      "provenance": [],
      "authorship_tag": "ABX9TyPdKrH6SJ130jB9qcHQ4kJ8",
      "include_colab_link": true
    },
    "kernelspec": {
      "name": "python3",
      "display_name": "Python 3"
    },
    "language_info": {
      "name": "python"
    }
  },
  "cells": [
    {
      "cell_type": "markdown",
      "metadata": {
        "id": "view-in-github",
        "colab_type": "text"
      },
      "source": [
        "<a href=\"https://colab.research.google.com/github/sumanthkrishna/genAIPath/blob/main/PracticePython_201_A.ipynb\" target=\"_parent\"><img src=\"https://colab.research.google.com/assets/colab-badge.svg\" alt=\"Open In Colab\"/></a>"
      ]
    },
    {
      "cell_type": "markdown",
      "source": [
        "#Python Essentials\n",
        "\n",
        "##Pandas\n",
        "\n",
        "Here are some Python challenges with pseudo code to practice using the Pandas library to load and read files from external URLs:\n"
      ],
      "metadata": {
        "id": "k0wtIhThubHU"
      }
    },
    {
      "cell_type": "markdown",
      "source": [
        "\n",
        "**Challenge 1: Load and Display Data from a CSV URL**\n",
        "\n",
        "**Pseudo Code:**\n",
        "```\n",
        "1. Import the Pandas library.\n",
        "2. Define a URL to a CSV file.\n",
        "3. Use Pandas to read the CSV file from the URL into a DataFrame.\n",
        "4. Display the first 5 rows of the DataFrame.\n",
        "```\n",
        "\n",
        "\n"
      ],
      "metadata": {
        "id": "OUdYgn5IugFJ"
      }
    },
    {
      "cell_type": "code",
      "source": [
        "# Use the code cell to write-in your code\n",
        "\n"
      ],
      "metadata": {
        "id": "LGMD1fn-w7Cl"
      },
      "execution_count": null,
      "outputs": []
    },
    {
      "cell_type": "markdown",
      "source": [
        "**Challenge 2: Load and Summarize Data from an Excel URL**\n",
        "\n",
        "**Pseudo Code:**\n",
        "```\n",
        "1. Import the Pandas library.\n",
        "2. Define a URL to an Excel file.\n",
        "3. Use Pandas to read the Excel file from the URL into a DataFrame.\n",
        "4. Display basic summary statistics of the DataFrame (e.g., describe() function).\n",
        "```\n"
      ],
      "metadata": {
        "id": "ntWymp_bwnfN"
      }
    },
    {
      "cell_type": "code",
      "source": [
        "# Use the code cell to write-in your code\n",
        "\n"
      ],
      "metadata": {
        "id": "wppYeRxSw6hy"
      },
      "execution_count": null,
      "outputs": []
    },
    {
      "cell_type": "markdown",
      "source": [
        "**Challenge 3: Filter and Extract Data from a JSON URL**\n",
        "\n",
        "**Pseudo Code:**\n",
        "```\n",
        "1. Import the Pandas library.\n",
        "2. Define a URL to a JSON file.\n",
        "3. Use Pandas to read the JSON file from the URL into a DataFrame.\n",
        "4. Filter and extract specific columns or rows based on criteria.\n",
        "5. Display the filtered data.\n",
        "```\n"
      ],
      "metadata": {
        "id": "tqh1603OwkiD"
      }
    },
    {
      "cell_type": "code",
      "source": [
        "# Use the code cell to write-in your code\n",
        "\n"
      ],
      "metadata": {
        "id": "tBIYPR24w5-Y"
      },
      "execution_count": null,
      "outputs": []
    },
    {
      "cell_type": "markdown",
      "source": [
        "\n",
        "**Challenge 4: Join Two DataFrames from Different CSV URLs**\n",
        "\n",
        "**Pseudo Code:**\n",
        "```\n",
        "1. Import the Pandas library.\n",
        "2. Define URLs to two different CSV files.\n",
        "3. Use Pandas to read both CSV files into separate DataFrames.\n",
        "4. Join the two DataFrames on a common column (e.g., using merge() function).\n",
        "5. Display the resulting merged DataFrame.\n",
        "```\n"
      ],
      "metadata": {
        "id": "MrMwaXTTwdyp"
      }
    },
    {
      "cell_type": "code",
      "source": [
        "# Use the code cell to write-in your code\n",
        "\n"
      ],
      "metadata": {
        "id": "CF6xheB0w5Af"
      },
      "execution_count": null,
      "outputs": []
    },
    {
      "cell_type": "markdown",
      "source": [
        "\n",
        "**Challenge 5: Group and Aggregate Data from a CSV URL**\n",
        "\n",
        "**Pseudo Code:**\n",
        "```\n",
        "1. Import the Pandas library.\n",
        "2. Define a URL to a CSV file containing sales data.\n",
        "3. Use Pandas to read the CSV file from the URL into a DataFrame.\n",
        "4. Group the data by a specific column (e.g., product category).\n",
        "5. Calculate and display aggregate statistics (e.g., total sales for each category).\n",
        "```\n"
      ],
      "metadata": {
        "id": "IibOGfObu_fI"
      }
    },
    {
      "cell_type": "code",
      "source": [
        "# Use the code cell to write-in your code\n",
        "\n"
      ],
      "metadata": {
        "id": "QoZZPQBVw30F"
      },
      "execution_count": null,
      "outputs": []
    },
    {
      "cell_type": "markdown",
      "source": [
        "\n",
        "**Challenge 6: Handle Missing Data from an Excel URL**\n",
        "\n",
        "**Pseudo Code:**\n",
        "```\n",
        "1. Import the Pandas library.\n",
        "2. Define a URL to an Excel file containing data with missing values.\n",
        "3. Use Pandas to read the Excel file from the URL into a DataFrame.\n",
        "4. Handle missing data (e.g., fill missing values or drop rows/columns).\n",
        "5. Display the cleaned DataFrame.\n",
        "```\n"
      ],
      "metadata": {
        "id": "mXwKmnrNu3cU"
      }
    },
    {
      "cell_type": "code",
      "source": [
        "# Use the code cell to write-in your code\n",
        "\n"
      ],
      "metadata": {
        "id": "isi8_MTYu4kT"
      },
      "execution_count": null,
      "outputs": []
    }
  ]
}