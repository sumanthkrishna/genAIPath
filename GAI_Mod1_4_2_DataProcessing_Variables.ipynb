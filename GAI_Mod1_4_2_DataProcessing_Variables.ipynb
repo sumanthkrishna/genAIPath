{
  "nbformat": 4,
  "nbformat_minor": 0,
  "metadata": {
    "colab": {
      "provenance": [],
      "authorship_tag": "ABX9TyMZJrzXbx8W9EJ9pCbrzUbm",
      "include_colab_link": true
    },
    "kernelspec": {
      "name": "python3",
      "display_name": "Python 3"
    },
    "language_info": {
      "name": "python"
    }
  },
  "cells": [
    {
      "cell_type": "markdown",
      "metadata": {
        "id": "view-in-github",
        "colab_type": "text"
      },
      "source": [
        "<a href=\"https://colab.research.google.com/github/sumanthkrishna/genAIPath/blob/main/GAI_Mod1_4_2_DataProcessing_Variables.ipynb\" target=\"_parent\"><img src=\"https://colab.research.google.com/assets/colab-badge.svg\" alt=\"Open In Colab\"/></a>"
      ]
    },
    {
      "cell_type": "markdown",
      "source": [
        "**Data Cleaning: Variable Types in Exploratory Data Analysis (EDA)**\n",
        "\n",
        "In the realm of data science, one of the critical stages of Exploratory Data Analysis (EDA) is data cleaning. This process involves identifying and rectifying issues within the dataset, ensuring its quality and reliability for subsequent analysis. A fundamental aspect of data cleaning is understanding and handling different variable types appropriately. Variables can be broadly categorized into numerical and categorical types, each requiring distinct methods of cleaning and preprocessing.\n",
        "\n",
        "### **1. Numerical Variables:**\n",
        "\n",
        "Numerical variables represent measurable quantities and can further be classified into two subtypes: discrete and continuous.\n",
        "\n",
        "**1.1. Discrete Numerical Variables:**\n",
        "Discrete variables take distinct, separate values and are often counted in whole numbers. Examples include the count of items, number of people, etc.\n",
        "\n",
        "**Cleaning Steps:**\n",
        "- Check for missing values.\n",
        "- Handle outliers if present.\n",
        "- Validate that values are within the expected range.\n",
        "\n",
        "```python\n",
        "# Example: Checking for missing values in a discrete numerical column\n",
        "print(df['count_of_items'].isnull().sum())\n",
        "```\n",
        "\n",
        "**1.2. Continuous Numerical Variables:**\n",
        "Continuous variables can take any real value within a given range. Examples include height, weight, temperature, etc.\n",
        "\n",
        "**Cleaning Steps:**\n",
        "- Address missing values.\n",
        "- Detect and handle outliers.\n",
        "- Normalize or standardize if needed.\n",
        "\n",
        "```python\n",
        "# Example: Handling outliers in a continuous numerical column\n",
        "from scipy.stats import zscore\n",
        "\n",
        "df['height_zscore'] = zscore(df['height'])\n",
        "df_no_outliers = df[(df['height_zscore'] > -3) & (df['height_zscore'] < 3)]\n",
        "```\n",
        "\n",
        "### **2. Categorical Variables:**\n",
        "\n",
        "Categorical variables represent categories and can be further divided into nominal and ordinal types.\n",
        "\n",
        "**2.1. Nominal Categorical Variables:**\n",
        "Nominal variables represent categories with no inherent order. Examples include colors, species, etc.\n",
        "\n",
        "**Cleaning Steps:**\n",
        "- Check for missing values.\n",
        "- Convert to numerical format using one-hot encoding.\n",
        "\n",
        "```python\n",
        "# Example: One-hot encoding a nominal categorical column\n",
        "df_encoded = pd.get_dummies(df, columns=['color'])\n",
        "```\n",
        "\n",
        "**2.2. Ordinal Categorical Variables:**\n",
        "Ordinal variables have a meaningful order among categories, but the intervals are not consistent. Examples include educational levels, customer satisfaction ratings, etc.\n",
        "\n",
        "**Cleaning Steps:**\n",
        "- Handle missing values.\n",
        "- Map ordinal values to numerical representations.\n",
        "\n",
        "```python\n",
        "# Example: Mapping ordinal values to numerical representations\n",
        "education_mapping = {'High School': 1, 'Bachelor': 2, 'Master': 3, 'PhD': 4}\n",
        "df['education_numeric'] = df['education'].map(education_mapping)\n",
        "```\n",
        "\n",
        "### **Using Iris Dataset for Illustration:**\n",
        "\n",
        "Let's apply these concepts to the Iris dataset, a well-known dataset in machine learning.\n",
        "\n",
        "```python\n",
        "# Load the Iris dataset\n",
        "from sklearn.datasets import load_iris\n",
        "import pandas as pd\n",
        "\n",
        "iris = load_iris()\n",
        "df_iris = pd.DataFrame(data=iris.data, columns=iris.feature_names)\n",
        "df_iris['target'] = iris.target\n",
        "```\n",
        "\n",
        "Now, we can explore and clean the numerical and categorical variables in the Iris dataset based on the outlined steps. This practice ensures that the dataset is well-prepared for subsequent analysis and modeling tasks.\n",
        "\n",
        "In conclusion, understanding variable types and applying appropriate cleaning procedures is fundamental in the EDA phase of data science. The meticulous handling of numerical and categorical variables lays the groundwork for reliable and insightful analyses, contributing to the overall success of a data science project."
      ],
      "metadata": {
        "id": "qMhZJwn2vdpM"
      }
    }
  ]
}