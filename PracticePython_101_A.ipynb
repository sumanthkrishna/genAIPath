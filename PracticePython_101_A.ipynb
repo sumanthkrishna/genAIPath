{
  "nbformat": 4,
  "nbformat_minor": 0,
  "metadata": {
    "colab": {
      "provenance": [],
      "authorship_tag": "ABX9TyPWSUJFGZp8XKGcuu1qfTuM",
      "include_colab_link": true
    },
    "kernelspec": {
      "name": "python3",
      "display_name": "Python 3"
    },
    "language_info": {
      "name": "python"
    }
  },
  "cells": [
    {
      "cell_type": "markdown",
      "metadata": {
        "id": "view-in-github",
        "colab_type": "text"
      },
      "source": [
        "<a href=\"https://colab.research.google.com/github/sumanthkrishna/genAIPath/blob/main/PracticePython_101_A.ipynb\" target=\"_parent\"><img src=\"https://colab.research.google.com/assets/colab-badge.svg\" alt=\"Open In Colab\"/></a>"
      ]
    },
    {
      "cell_type": "markdown",
      "source": [
        "##Python - 101\n",
        "\n",
        "1. Lists\n",
        "2. Loops\n",
        "3. Conditions\n",
        "4. Functions\n",
        "\n",
        "Python challenges along with pseudo code to practice lists, loops, functions, and conditions:\n",
        "\n",
        "**Challenge 1: Calculate the Sum of Even Numbers in a List**\n",
        "\n",
        "**Pseudo Code:**\n",
        "```\n",
        "1. Initialize a variable `sum_even` to 0.\n",
        "2. Create a list `numbers` containing integers.\n",
        "3. For each `number` in `numbers`:\n",
        "   4. If `number` is even:\n",
        "      5. Add `number` to `sum_even`.\n",
        "6. Print `sum_even`.\n",
        "```\n"
      ],
      "metadata": {
        "id": "R7_Vkx-MiKTA"
      }
    },
    {
      "cell_type": "code",
      "source": [
        "# Use this code cell, to write, by following the given Pseudo Code\n",
        "\n",
        "sum_even = 0"
      ],
      "metadata": {
        "id": "5TsPp0yyjGbN"
      },
      "execution_count": null,
      "outputs": []
    },
    {
      "cell_type": "markdown",
      "source": [
        "\n",
        "**Challenge 2: Find the Maximum Value in a List**\n",
        "\n",
        "**Pseudo Code:**\n",
        "```\n",
        "1. Initialize a variable `max_value` to the first element of the list.\n",
        "2. Create a list `numbers` containing integers.\n",
        "3. For each `number` in `numbers`:\n",
        "   4. If `number` is greater than `max_value`:\n",
        "      5. Set `max_value` to `number`.\n",
        "6. Print `max_value`.\n",
        "```"
      ],
      "metadata": {
        "id": "QzrB4rjQi-7n"
      }
    },
    {
      "cell_type": "code",
      "source": [
        "# Use this code cell, to write, by following the given Pseudo Code\n",
        "\n",
        "max_value = numbers[0]"
      ],
      "metadata": {
        "id": "i6UwLgKWi_pL"
      },
      "execution_count": null,
      "outputs": []
    },
    {
      "cell_type": "markdown",
      "source": [
        "**Challenge 3: Count the Occurrences of a Specific Element in a List**\n",
        "\n",
        "**Pseudo Code:**\n",
        "```\n",
        "1. Initialize a variable `count` to 0.\n",
        "2. Create a list `numbers` containing integers.\n",
        "3. Initialize a variable `target` with the element to count.\n",
        "4. For each `number` in `numbers`:\n",
        "   5. If `number` is equal to `target`:\n",
        "      6. Increment `count` by 1.\n",
        "7. Print `count`.\n",
        "```"
      ],
      "metadata": {
        "id": "j_lG48zXi50K"
      }
    },
    {
      "cell_type": "code",
      "source": [
        "# Use this code cell, to write, by following the given Pseudo Code\n",
        "\n",
        "count = 0"
      ],
      "metadata": {
        "id": "NVoHbO4ai6or"
      },
      "execution_count": null,
      "outputs": []
    },
    {
      "cell_type": "markdown",
      "source": [
        "**Challenge 4: Reverse a List**\n",
        "\n",
        "**Pseudo Code:**\n",
        "```\n",
        "1. Create a list `original_list` containing elements.\n",
        "2. Initialize an empty list `reversed_list`.\n",
        "3. For each `element` in `original_list`:\n",
        "   4. Add `element` to the beginning of `reversed_list`.\n",
        "5. Print `reversed_list`.\n",
        "```"
      ],
      "metadata": {
        "id": "yK-VULtCiugg"
      }
    },
    {
      "cell_type": "code",
      "source": [
        "# Use this code cell, to write, by following the given Pseudo Code\n",
        "\n",
        "original_list = [1, 2, 3, 4]"
      ],
      "metadata": {
        "id": "_HyoU1p_ivuF"
      },
      "execution_count": null,
      "outputs": []
    },
    {
      "cell_type": "markdown",
      "source": [
        "**Challenge 5: Check if a List is Sorted in Ascending Order**\n",
        "\n",
        "**Pseudo Code:**\n",
        "```\n",
        "1. Create a list `numbers` containing integers.\n",
        "2. Initialize a variable `is_sorted` to True.\n",
        "3. For each `i` from 0 to the length of `numbers - 2`:\n",
        "   4. If `numbers[i]` is greater than `numbers[i+1]`:\n",
        "      5. Set `is_sorted` to False.\n",
        "      6. Break the loop.\n",
        "7. If `is_sorted` is True:\n",
        "   8. Print \"The list is sorted.\"\n",
        "9. Otherwise:\n",
        "   10. Print \"The list is not sorted.\"\n",
        "\n",
        "```"
      ],
      "metadata": {
        "id": "zf6vDjD2imO_"
      }
    },
    {
      "cell_type": "code",
      "source": [
        "# Use this code cell, to write, by following the given Pseudo Code\n",
        "\n",
        "is_sorted = ____"
      ],
      "metadata": {
        "id": "Su5qdzF7inQM"
      },
      "execution_count": null,
      "outputs": []
    },
    {
      "cell_type": "markdown",
      "source": [
        "**Challenge 6: Implement a Function to Check If a Number is Prime**\n",
        "\n",
        "**Pseudo Code:**\n",
        "```\n",
        "1. Create a function `is_prime` that takes an integer `n` as an argument.\n",
        "2. If `n` is less than 2:\n",
        "   3. Return False (prime numbers are greater than 1).\n",
        "4. For each `i` from 2 to the square root of `n`:\n",
        "   5. If `n` is divisible by `i`:\n",
        "      6. Return False (not a prime number).\n",
        "7. Return True (a prime number).\n",
        "```"
      ],
      "metadata": {
        "id": "v4c8nnr5ibb-"
      }
    },
    {
      "cell_type": "code",
      "source": [
        "# Use this code cell, to write, by following the given Pseudo Code\n",
        "\n",
        "def is_prime(n):"
      ],
      "metadata": {
        "id": "XpPZHDpLiS6g"
      },
      "execution_count": null,
      "outputs": []
    }
  ]
}