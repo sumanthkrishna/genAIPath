{
  "nbformat": 4,
  "nbformat_minor": 0,
  "metadata": {
    "colab": {
      "provenance": [],
      "authorship_tag": "ABX9TyNgU1gi44xkXVPC9BT/qZCO",
      "include_colab_link": true
    },
    "kernelspec": {
      "name": "python3",
      "display_name": "Python 3"
    },
    "language_info": {
      "name": "python"
    }
  },
  "cells": [
    {
      "cell_type": "markdown",
      "metadata": {
        "id": "view-in-github",
        "colab_type": "text"
      },
      "source": [
        "<a href=\"https://colab.research.google.com/github/sumanthkrishna/genAIPath/blob/main/Practice_GAI_Mod_1_tTest_A.ipynb\" target=\"_parent\"><img src=\"https://colab.research.google.com/assets/colab-badge.svg\" alt=\"Open In Colab\"/></a>"
      ]
    },
    {
      "cell_type": "markdown",
      "source": [
        "Here are some Python challenges with unfinished code or blanks for you to practice mean, median, mode, variance, standard deviation, and t-Test. **Fill in the missing parts to complete the code.**"
      ],
      "metadata": {
        "id": "s62xacIxz259"
      }
    },
    {
      "cell_type": "markdown",
      "source": [
        "##Challenge 1: Calculate Mean\n",
        "\n"
      ],
      "metadata": {
        "id": "qeuutIC_z4yO"
      }
    },
    {
      "cell_type": "code",
      "execution_count": null,
      "metadata": {
        "id": "ey8hgASszwNX"
      },
      "outputs": [],
      "source": [
        "# Challenge: Calculate the mean of a dataset\n",
        "def calculate_mean(dataset):\n",
        "    # Initialize a variable `sum` to 0.\n",
        "    sum_ = 0\n",
        "    # Initialize a variable `count` to 0.\n",
        "    count = 0\n",
        "    # For each element `x` in the dataset:\n",
        "    for x in dataset:\n",
        "        # Add `x` to `sum`.\n",
        "        sum_ += x\n",
        "        # Increment `count` by 1.\n",
        "        count += 1\n",
        "    # Calculate the mean as `sum / count`.\n",
        "    mean = sum_ / count\n",
        "    return mean\n",
        "\n",
        "# Example:\n",
        "data = [1, 2, 3, 4, 5]\n",
        "result = calculate_mean(data)\n",
        "print(result)  # This should print the mean of the dataset.\n"
      ]
    },
    {
      "cell_type": "markdown",
      "source": [
        "##Challenge 2: Calculate Median\n",
        "\n"
      ],
      "metadata": {
        "id": "U4gOTtED0AOR"
      }
    },
    {
      "cell_type": "code",
      "source": [
        "# Challenge: Calculate the median of a dataset\n",
        "def calculate_median(dataset):\n",
        "    # Sort the dataset in ascending order.\n",
        "    sorted_data = sorted(dataset)\n",
        "    # If the count of elements is odd:\n",
        "    if len(sorted_data) % 2 == 1:\n",
        "        # The median is the middle element.\n",
        "        median = sorted_data[len(sorted_data) // 2]\n",
        "    else:\n",
        "        # If the count of elements is even:\n",
        "        # The median is the average of the two middle elements.\n",
        "        middle1 = sorted_data[len(sorted_data) // 2 - 1]\n",
        "        middle2 = sorted_data[len(sorted_data) // 2]\n",
        "        median = (middle1 + middle2) / 2\n",
        "    return median\n",
        "\n",
        "# Example:\n",
        "data = [7, 2, 1, 5, 3, 4]\n",
        "result = calculate_median(data)\n",
        "print(result)  # This should print the median of the dataset.\n"
      ],
      "metadata": {
        "id": "QmbhqUOA0Be7"
      },
      "execution_count": null,
      "outputs": []
    },
    {
      "cell_type": "markdown",
      "source": [
        "##Challenge 3: Calculate Mode\n",
        "\n"
      ],
      "metadata": {
        "id": "_QY3_HXU0DFG"
      }
    },
    {
      "cell_type": "code",
      "source": [
        "# Challenge: Calculate the mode of a dataset\n",
        "def calculate_mode(dataset):\n",
        "    # Create a dictionary to count the frequency of each unique value.\n",
        "    value_counts = {}\n",
        "    # Initialize a variable `max_count` to 0.\n",
        "    max_count = 0\n",
        "    # For each element `x` in the dataset:\n",
        "    for x in dataset:\n",
        "        # Increment the count for `x` in the dictionary.\n",
        "        if x in value_counts:\n",
        "            value_counts[x] += 1\n",
        "        else:\n",
        "            value_counts[x] = 1\n",
        "        # If the count for `x` is greater than `max_count`, update `max_count`.\n",
        "        if value_counts[x] > max_count:\n",
        "            max_count = value_counts[x]\n",
        "    # Create a list of modes (values with a count equal to `max_count`).\n",
        "    modes = [x for x in value_counts if value_counts[x] == max_count]\n",
        "    return modes\n",
        "\n",
        "# Example:\n",
        "data = [1, 2, 2, 3, 3, 3, 4, 4]\n",
        "result = calculate_mode(data)\n",
        "print(result)  # This should print the mode(s) of the dataset.\n"
      ],
      "metadata": {
        "id": "2jkwceKn0FGe"
      },
      "execution_count": null,
      "outputs": []
    }
  ]
}