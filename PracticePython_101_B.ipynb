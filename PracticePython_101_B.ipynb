{
  "nbformat": 4,
  "nbformat_minor": 0,
  "metadata": {
    "colab": {
      "provenance": [],
      "authorship_tag": "ABX9TyMqvs4FrQH1p4l1IG+VRDGS",
      "include_colab_link": true
    },
    "kernelspec": {
      "name": "python3",
      "display_name": "Python 3"
    },
    "language_info": {
      "name": "python"
    }
  },
  "cells": [
    {
      "cell_type": "markdown",
      "metadata": {
        "id": "view-in-github",
        "colab_type": "text"
      },
      "source": [
        "<a href=\"https://colab.research.google.com/github/sumanthkrishna/genAIPath/blob/main/PracticePython_101_B.ipynb\" target=\"_parent\"><img src=\"https://colab.research.google.com/assets/colab-badge.svg\" alt=\"Open In Colab\"/></a>"
      ]
    },
    {
      "cell_type": "markdown",
      "source": [
        "##Python - 101\n",
        "\n",
        "1. Lists\n",
        "2. Loops\n",
        "3. Conditions\n",
        "4. Functions\n",
        "\n",
        "Python challenges that will help practice lists, loops, functions, and conditional statements:\n"
      ],
      "metadata": {
        "id": "sfYr3uBan8EO"
      }
    },
    {
      "cell_type": "markdown",
      "source": [
        "\n",
        "**1. List Operations:**\n",
        "   Write a Python function that takes a list of numbers as input and returns the sum, maximum, and minimum values from the list.\n",
        "\n",
        "\n",
        "\n",
        "\n",
        "\n",
        "\n",
        "\n",
        "\n",
        "\n"
      ],
      "metadata": {
        "id": "Ti5sp8mChwrY"
      }
    },
    {
      "cell_type": "code",
      "source": [
        "# Use the cell to write-in your code\n",
        "\n"
      ],
      "metadata": {
        "id": "XKdvXv1jmWE3"
      },
      "execution_count": null,
      "outputs": []
    },
    {
      "cell_type": "markdown",
      "source": [
        "\n",
        "**2. Palindrome Checker:**\n",
        "   Create a function that checks if a given string is a palindrome. A palindrome is a word or phrase that reads the same backward as forward (ignoring spaces and capitalization).\n"
      ],
      "metadata": {
        "id": "vmY-qgtmmWct"
      }
    },
    {
      "cell_type": "code",
      "source": [
        "# Use the cell to write-in your code\n",
        "\n"
      ],
      "metadata": {
        "id": "BGcVvwVRmXLO"
      },
      "execution_count": null,
      "outputs": []
    },
    {
      "cell_type": "markdown",
      "source": [
        "**3. Factorial Calculator:**\n",
        "   Write a function that calculates the factorial of a given integer using a loop. Factorial of a non-negative integer n is the product of all positive integers less than or equal to n.\n"
      ],
      "metadata": {
        "id": "paAXEk7plhfY"
      }
    },
    {
      "cell_type": "code",
      "source": [
        "# Use the cell to write-in your code\n",
        "\n"
      ],
      "metadata": {
        "id": "O3kaYmb8liWU"
      },
      "execution_count": null,
      "outputs": []
    },
    {
      "cell_type": "markdown",
      "source": [
        "**4. Prime Number Checker:**\n",
        "   Create a function to determine whether a given number is a prime number or not. A prime number is a positive integer greater than 1 that has no positive divisors other than 1 and itself.\n"
      ],
      "metadata": {
        "id": "QMfxmGQElVZ3"
      }
    },
    {
      "cell_type": "code",
      "source": [
        "# Use the cell to write-in your code\n",
        "\n"
      ],
      "metadata": {
        "id": "cbZ8biRnlYmC"
      },
      "execution_count": null,
      "outputs": []
    },
    {
      "cell_type": "markdown",
      "source": [
        "**5. List Comprehension:**\n",
        "   Use list comprehension to create a new list that contains only the even numbers from an existing list of integers.\n",
        "   "
      ],
      "metadata": {
        "id": "SWpuSoHslOz0"
      }
    },
    {
      "cell_type": "code",
      "source": [
        "# Use the cell to write-in your code\n",
        "\n"
      ],
      "metadata": {
        "id": "VrQYoumIlP7o"
      },
      "execution_count": null,
      "outputs": []
    },
    {
      "cell_type": "markdown",
      "source": [
        "**6. FizzBuzz Challenge:**\n",
        "   Write a program that prints numbers from 1 to 100. For multiples of 3, print \"Fizz\" instead of the number, and for multiples of 5, print \"Buzz.\" For numbers that are multiples of both 3 and 5, print \"FizzBuzz.\"\n",
        "\n"
      ],
      "metadata": {
        "id": "QjMZq6LulA4C"
      }
    },
    {
      "cell_type": "code",
      "source": [
        "# Use the cell to write-in your code\n",
        "\n"
      ],
      "metadata": {
        "id": "BtVaRgsKlBfJ"
      },
      "execution_count": null,
      "outputs": []
    },
    {
      "cell_type": "markdown",
      "source": [
        "**7. Fibonacci Sequence:**\n",
        "   Create a function that generates the first n numbers of the Fibonacci sequence, where n is a user-defined input.\n",
        "\n",
        "   "
      ],
      "metadata": {
        "id": "CBB1uj5KkU_f"
      }
    },
    {
      "cell_type": "code",
      "source": [
        "# Use the cell to write-in your code\n",
        "\n"
      ],
      "metadata": {
        "id": "3emYfEaAkWZL"
      },
      "execution_count": null,
      "outputs": []
    },
    {
      "cell_type": "markdown",
      "source": [
        "**8. List Manipulation:**\n",
        "   Write a function that takes a list of integers and returns a new list containing only the unique elements, in the same order as they appear in the original list.\n"
      ],
      "metadata": {
        "id": "VVbJ0iT-kOOp"
      }
    },
    {
      "cell_type": "code",
      "source": [
        "# Use the cell to write-in your code\n",
        "\n"
      ],
      "metadata": {
        "id": "3aXofuQZkO5q"
      },
      "execution_count": null,
      "outputs": []
    },
    {
      "cell_type": "markdown",
      "source": [
        "**9. Rock, Paper, Scissors Game:**\n",
        "   Implement a simple text-based Rock, Paper, Scissors game where the player can compete against the computer. Use conditional statements to determine the winner.\n",
        "\n"
      ],
      "metadata": {
        "id": "2gmLB6rckHjI"
      }
    },
    {
      "cell_type": "code",
      "source": [
        "# Use the cell to write-in your code\n",
        "\n"
      ],
      "metadata": {
        "id": "p4tNCf96kIhz"
      },
      "execution_count": null,
      "outputs": []
    },
    {
      "cell_type": "markdown",
      "source": [
        "**10. Password Strength Checker:**\n",
        "    Write a function that checks the strength of a password. It should contain at least one uppercase letter, one lowercase letter, one digit, and one special character. The function should return \"Strong\" or \"Weak\" accordingly.\n"
      ],
      "metadata": {
        "id": "yHGZIFMFj7Tr"
      }
    },
    {
      "cell_type": "code",
      "source": [
        "# Use the cell to write-in your code\n",
        "\n"
      ],
      "metadata": {
        "id": "ktocLVenj8-g"
      },
      "execution_count": null,
      "outputs": []
    },
    {
      "cell_type": "markdown",
      "source": [
        "These challenges cover a range of Python concepts including list manipulation, loops, functions, and conditional statements. They are a great way to practice and solidify your Python programming skills. You can tackle them one by one, and as you complete each challenge, you'll gain more confidence and experience in Python."
      ],
      "metadata": {
        "id": "BufTfbDJkB6B"
      }
    }
  ]
}