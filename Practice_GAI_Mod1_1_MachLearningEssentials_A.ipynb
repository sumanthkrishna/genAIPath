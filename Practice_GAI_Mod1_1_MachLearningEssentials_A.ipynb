{
  "nbformat": 4,
  "nbformat_minor": 0,
  "metadata": {
    "colab": {
      "provenance": [],
      "authorship_tag": "ABX9TyM6+EB6rB+u+03YS39tlGYb",
      "include_colab_link": true
    },
    "kernelspec": {
      "name": "python3",
      "display_name": "Python 3"
    },
    "language_info": {
      "name": "python"
    }
  },
  "cells": [
    {
      "cell_type": "markdown",
      "metadata": {
        "id": "view-in-github",
        "colab_type": "text"
      },
      "source": [
        "<a href=\"https://colab.research.google.com/github/sumanthkrishna/genAIPath/blob/main/Practice_GAI_Mod1_1_MachLearningEssentials_A.ipynb\" target=\"_parent\"><img src=\"https://colab.research.google.com/assets/colab-badge.svg\" alt=\"Open In Colab\"/></a>"
      ]
    },
    {
      "cell_type": "markdown",
      "source": [
        "##Recap from the course\n",
        "1. Do the necessary imports : Below replace the 'XYZ' to complete the first step\n"
      ],
      "metadata": {
        "id": "mNYzB0yd2oZG"
      }
    },
    {
      "cell_type": "code",
      "source": [
        "# Import necessary libraries\n",
        "from sklearn.datasets import load_diabetes\n",
        "from sklearn.model_selection import train_XYZ\n",
        "from sklearn.linear_model import LinearXYZ\n",
        "from sklearn.metrics import mean_squared_error, r2_XYZ\n",
        "\n",
        "print(\"Finished with required imports\")"
      ],
      "metadata": {
        "id": "vsagZNEU270X"
      },
      "execution_count": null,
      "outputs": []
    },
    {
      "cell_type": "markdown",
      "source": [
        "2. Load the diabetes dataset: Below replace the 'XYZ' to complete the first step"
      ],
      "metadata": {
        "id": "ZMJjbGbd3S3n"
      }
    },
    {
      "cell_type": "code",
      "source": [
        "diabetes = load_diabetes()\n",
        "\n",
        "X, y = diabetes.XYZ, diabetes.XYZ"
      ],
      "metadata": {
        "id": "g4DcHudM3WjY"
      },
      "execution_count": null,
      "outputs": []
    },
    {
      "cell_type": "markdown",
      "source": [
        "##Challenges"
      ],
      "metadata": {
        "id": "CMTQjOei5t-W"
      }
    },
    {
      "cell_type": "markdown",
      "source": [
        "### Challenge 1: Split the dataset into training and testing sets"
      ],
      "metadata": {
        "id": "SFq6E00K3oTX"
      }
    },
    {
      "cell_type": "code",
      "source": [
        "X_train, X_test, y_train, y_test = XYZ_test_split(X, y, test_size=0.2, random_state=42)\n"
      ],
      "metadata": {
        "id": "Vqh_uO6P3r3r"
      },
      "execution_count": null,
      "outputs": []
    },
    {
      "cell_type": "markdown",
      "source": [
        "### Challenge 2: Create a Linear Regression model\n"
      ],
      "metadata": {
        "id": "KtqkusDE30jf"
      }
    },
    {
      "cell_type": "code",
      "source": [
        "model = LinearXYZ()\n"
      ],
      "metadata": {
        "id": "W6khL7Z_3-G2"
      },
      "execution_count": null,
      "outputs": []
    },
    {
      "cell_type": "markdown",
      "source": [
        "### Challenge 3: Fit the model on the training data"
      ],
      "metadata": {
        "id": "kaUFtEdL4HEu"
      }
    },
    {
      "cell_type": "code",
      "source": [
        "model.XYZ(X_train, y_train)"
      ],
      "metadata": {
        "id": "HFYNc5PV4MjT"
      },
      "execution_count": null,
      "outputs": []
    },
    {
      "cell_type": "markdown",
      "source": [
        "###Challenge 4: Make predictions on the test data"
      ],
      "metadata": {
        "id": "DqE0_JTN4RT4"
      }
    },
    {
      "cell_type": "code",
      "source": [
        " y_pred = model.XYZ(X_test)"
      ],
      "metadata": {
        "id": "H4ubDO_l4OUG"
      },
      "execution_count": null,
      "outputs": []
    },
    {
      "cell_type": "markdown",
      "source": [
        "### Challenge 5: Calculate Mean Squared Error (MSE) for the model"
      ],
      "metadata": {
        "id": "cseb4tfy4rRA"
      }
    },
    {
      "cell_type": "code",
      "source": [
        "mse = mean_XYZ_XYZ(y_test, y_pred)"
      ],
      "metadata": {
        "id": "aMwq6zI84tNX"
      },
      "execution_count": null,
      "outputs": []
    },
    {
      "cell_type": "markdown",
      "source": [
        "###Challenge 6: Calculate the R-squared (R2) score for the model"
      ],
      "metadata": {
        "id": "LSFEuFhK416P"
      }
    },
    {
      "cell_type": "code",
      "source": [
        "r2 = r2_XYZ(y_XYZ, y_XYZ)"
      ],
      "metadata": {
        "id": "2iXjwo_B45dm"
      },
      "execution_count": null,
      "outputs": []
    },
    {
      "cell_type": "markdown",
      "source": [
        "###Challenge 7: Print the model's coefficients and intercept"
      ],
      "metadata": {
        "id": "7n-FLDxN4_i_"
      }
    },
    {
      "cell_type": "code",
      "source": [
        "coefficients = model.coef_XYZ\n",
        "intercept = model.intercept_XYZ"
      ],
      "metadata": {
        "id": "_2GNC3xI5F8w"
      },
      "execution_count": null,
      "outputs": []
    },
    {
      "cell_type": "markdown",
      "source": [
        "### Challenge 8: Find the most important feature in the dataset"
      ],
      "metadata": {
        "id": "GCeIeHiK5Jkn"
      }
    },
    {
      "cell_type": "code",
      "source": [
        "most_important_feature_index = coefficients.argmax()\n",
        "most_important_feature_name = diabetes.feature_names[most_important_feature_index]\n"
      ],
      "metadata": {
        "id": "QYKcVFdf5N9g"
      },
      "execution_count": null,
      "outputs": []
    },
    {
      "cell_type": "markdown",
      "source": [
        "### Challenge 9: Identify the diabetic patients with predicted values above a certain threshold\n"
      ],
      "metadata": {
        "id": "X5kypEo15V6u"
      }
    },
    {
      "cell_type": "code",
      "source": [
        "threshold = 160\n",
        "diabetic_patients = X_test[y_pred > XYZ]"
      ],
      "metadata": {
        "id": "rwQpOLK85ZnG"
      },
      "execution_count": null,
      "outputs": []
    },
    {
      "cell_type": "markdown",
      "source": [
        "### Challenge 10: Plot a scatter plot of the most important feature against the target variable\n"
      ],
      "metadata": {
        "id": "pe3YQo4h5hbo"
      }
    },
    {
      "cell_type": "code",
      "source": [
        "import matplotlib.pyplot as plt\n",
        "# plt.scatter(X_test[:, most_important_feature_index], y_test, label='True')\n",
        "# plt.scatter(X_test[:, most_important_feature_index], y_pred, label='Predicted')\n",
        "# plt.xlabel(most_important_feature_name)\n",
        "# plt.ylabel('Diabetes Progression')\n",
        "# plt.legend()\n",
        "# plt.show()"
      ],
      "metadata": {
        "id": "ZTOgY3fF5eKO"
      },
      "execution_count": null,
      "outputs": []
    }
  ]
}